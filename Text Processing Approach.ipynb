{
 "cells": [
  {
   "cell_type": "markdown",
   "id": "2a049860",
   "metadata": {},
   "source": [
    "# IMPORTING LIBRARIES"
   ]
  },
  {
   "cell_type": "code",
   "execution_count": 1,
   "id": "b1fcd8c4",
   "metadata": {},
   "outputs": [
    {
     "name": "stderr",
     "output_type": "stream",
     "text": [
      "C:\\Users\\Pritam.Mahadik\\AppData\\Roaming\\Python\\Python39\\site-packages\\fuzzywuzzy\\fuzz.py:11: UserWarning: Using slow pure-python SequenceMatcher. Install python-Levenshtein to remove this warning\n",
      "  warnings.warn('Using slow pure-python SequenceMatcher. Install python-Levenshtein to remove this warning')\n"
     ]
    }
   ],
   "source": [
    "import pandas as pd\n",
    "from fuzzywuzzy import fuzz\n",
    "import warnings\n",
    "warnings.simplefilter(\"ignore\")"
   ]
  },
  {
   "cell_type": "markdown",
   "id": "005e2e30",
   "metadata": {},
   "source": [
    "# IMPORTING DATA"
   ]
  },
  {
   "cell_type": "code",
   "execution_count": 2,
   "id": "8fc67dad",
   "metadata": {},
   "outputs": [],
   "source": [
    "# Provided data (replace this with your actual data)\n",
    "existing_clients = pd.read_excel(r'C:\\Users\\Pritam.Mahadik\\Desktop\\existing_clients.xlsx')\n",
    "potential_clients = pd.read_excel(r'C:\\Users\\Pritam.Mahadik\\Desktop\\potential_clients.xlsx')"
   ]
  },
  {
   "cell_type": "markdown",
   "id": "54599aa4",
   "metadata": {},
   "source": [
    "# CALCULATING SIMILARITY"
   ]
  },
  {
   "cell_type": "code",
   "execution_count": 3,
   "id": "3a58ff9e",
   "metadata": {},
   "outputs": [],
   "source": [
    "# Function to calculate similarity score using Levenshtein distance\n",
    "def get_similarity_score(str1, str2):\n",
    "    return fuzz.ratio(str1.lower(), str2.lower())"
   ]
  },
  {
   "cell_type": "code",
   "execution_count": 4,
   "id": "c1be060b",
   "metadata": {},
   "outputs": [],
   "source": [
    "# Threshold for similarity score above which we consider it a match\n",
    "similarity_threshold = 80"
   ]
  },
  {
   "cell_type": "code",
   "execution_count": 5,
   "id": "eefc112b",
   "metadata": {},
   "outputs": [],
   "source": [
    "# Create a new DataFrame to store the results\n",
    "results = pd.DataFrame(columns=['Company', 'Status', 'Revenue'])"
   ]
  },
  {
   "cell_type": "markdown",
   "id": "4a6a802b",
   "metadata": {},
   "source": [
    "# OPERATION"
   ]
  },
  {
   "cell_type": "code",
   "execution_count": 6,
   "id": "ed8b31b4",
   "metadata": {},
   "outputs": [],
   "source": [
    "# Iterate through potential clients and check for matches in existing clients\n",
    "for index, row in potential_clients.iterrows():\n",
    "    company_name = row['Company names']\n",
    "    match_found = False\n",
    "    revenue = None\n",
    "    \n",
    "    for _, existing_row in existing_clients.iterrows():\n",
    "        existing_company_name = existing_row['Client Name']\n",
    "        similarity_score = get_similarity_score(company_name, existing_company_name)\n",
    "        \n",
    "        if similarity_score >= similarity_threshold:\n",
    "            match_found = True\n",
    "            revenue = existing_row['Revenue']\n",
    "            break\n",
    "            \n",
    "    # Append results to the DataFrame\n",
    "    if match_found:\n",
    "        results = results.append({'Company': company_name, 'Status': 'Client', 'Revenue': revenue}, ignore_index=True)\n",
    "    else:\n",
    "        results = results.append({'Company': company_name, 'Status': 'Prospect', 'Revenue': None}, ignore_index=True)\n"
   ]
  },
  {
   "cell_type": "markdown",
   "id": "dead83e7",
   "metadata": {},
   "source": [
    "# EXPORTING RESULT"
   ]
  },
  {
   "cell_type": "code",
   "execution_count": 7,
   "id": "8ea1ba83",
   "metadata": {},
   "outputs": [],
   "source": [
    "# Save the results to a CSV file\n",
    "results.to_csv('Text Processing Approach_results.csv', index=False)"
   ]
  },
  {
   "cell_type": "code",
   "execution_count": null,
   "id": "c2c66a04",
   "metadata": {},
   "outputs": [],
   "source": []
  }
 ],
 "metadata": {
  "kernelspec": {
   "display_name": "Python 3 (ipykernel)",
   "language": "python",
   "name": "python3"
  },
  "language_info": {
   "codemirror_mode": {
    "name": "ipython",
    "version": 3
   },
   "file_extension": ".py",
   "mimetype": "text/x-python",
   "name": "python",
   "nbconvert_exporter": "python",
   "pygments_lexer": "ipython3",
   "version": "3.9.13"
  }
 },
 "nbformat": 4,
 "nbformat_minor": 5
}
