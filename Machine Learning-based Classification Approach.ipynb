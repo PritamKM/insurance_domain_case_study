{
 "cells": [
  {
   "cell_type": "markdown",
   "id": "bfbb6745",
   "metadata": {},
   "source": [
    "# IMPORTING LIBRARIES"
   ]
  },
  {
   "cell_type": "code",
   "execution_count": 1,
   "id": "cdaeac9c",
   "metadata": {},
   "outputs": [],
   "source": [
    "import pandas as pd\n",
    "from sklearn.model_selection import train_test_split, GridSearchCV\n",
    "from sklearn.feature_extraction.text import TfidfVectorizer\n",
    "from sklearn.ensemble import RandomForestClassifier\n",
    "from sklearn.metrics import accuracy_score, classification_report\n",
    "from imblearn.over_sampling import SMOTE"
   ]
  },
  {
   "cell_type": "markdown",
   "id": "363c24e7",
   "metadata": {},
   "source": [
    "# IMPORTING DATA"
   ]
  },
  {
   "cell_type": "code",
   "execution_count": 2,
   "id": "018816af",
   "metadata": {},
   "outputs": [],
   "source": [
    "existing_clients = pd.read_excel(r'C:\\Users\\Pritam.Mahadik\\Desktop\\existing_clients.xlsx')\n",
    "potential_clients = pd.read_excel(r'C:\\Users\\Pritam.Mahadik\\Desktop\\potential_clients.xlsx')"
   ]
  },
  {
   "cell_type": "markdown",
   "id": "d625c14a",
   "metadata": {},
   "source": [
    "# Data Preparation"
   ]
  },
  {
   "cell_type": "code",
   "execution_count": 3,
   "id": "b99ea3e5",
   "metadata": {},
   "outputs": [],
   "source": [
    "existing_clients['Is_Client'] = 1\n",
    "potential_clients['Is_Client'] = 0"
   ]
  },
  {
   "cell_type": "code",
   "execution_count": 4,
   "id": "94aebbb1",
   "metadata": {},
   "outputs": [],
   "source": [
    "combined_data = pd.concat([existing_clients.drop(columns=['Id']), potential_clients.drop(columns=['Id'])])\n",
    "combined_data['Client Name'] = combined_data['Client Name'].fillna('')"
   ]
  },
  {
   "cell_type": "markdown",
   "id": "0e749a7d",
   "metadata": {},
   "source": [
    "# Feature Engineering"
   ]
  },
  {
   "cell_type": "code",
   "execution_count": 5,
   "id": "f24f9313",
   "metadata": {},
   "outputs": [],
   "source": [
    "tfidf_vectorizer = TfidfVectorizer()\n",
    "X = tfidf_vectorizer.fit_transform(combined_data['Client Name'])"
   ]
  },
  {
   "cell_type": "markdown",
   "id": "f2b53d2c",
   "metadata": {},
   "source": [
    "# Model Training"
   ]
  },
  {
   "cell_type": "code",
   "execution_count": 6,
   "id": "359b4e92",
   "metadata": {},
   "outputs": [],
   "source": [
    "X_train, X_test, y_train, y_test = train_test_split(X, combined_data['Is_Client'], train_size=0.8, random_state=5)"
   ]
  },
  {
   "cell_type": "code",
   "execution_count": 7,
   "id": "88fca574",
   "metadata": {},
   "outputs": [],
   "source": [
    "# Apply SMOTE to handle class imbalance\n",
    "smote = SMOTE(sampling_strategy='auto', random_state=42)\n",
    "X_train_resampled, y_train_resampled = smote.fit_resample(X_train, y_train)"
   ]
  },
  {
   "cell_type": "code",
   "execution_count": 8,
   "id": "0bb1e1cf",
   "metadata": {},
   "outputs": [],
   "source": [
    "# Hyperparameter Tuning using GridSearchCV\n",
    "param_grid = {\n",
    "    'n_estimators': [50, 100, 150],\n",
    "    'max_depth': [None, 10, 20],\n",
    "    'min_samples_split': [2, 5, 10]\n",
    "}"
   ]
  },
  {
   "cell_type": "code",
   "execution_count": 9,
   "id": "4a3dcfe5",
   "metadata": {},
   "outputs": [
    {
     "data": {
      "text/plain": [
       "GridSearchCV(cv=5, estimator=RandomForestClassifier(random_state=42),\n",
       "             param_grid={'max_depth': [None, 10, 20],\n",
       "                         'min_samples_split': [2, 5, 10],\n",
       "                         'n_estimators': [50, 100, 150]})"
      ]
     },
     "execution_count": 9,
     "metadata": {},
     "output_type": "execute_result"
    }
   ],
   "source": [
    "rf_classifier = RandomForestClassifier(random_state=42)\n",
    "grid_search = GridSearchCV(estimator=rf_classifier, param_grid=param_grid, cv=5)\n",
    "grid_search.fit(X_train_resampled, y_train_resampled)"
   ]
  },
  {
   "cell_type": "code",
   "execution_count": 10,
   "id": "9b270484",
   "metadata": {},
   "outputs": [],
   "source": [
    "# Get the best model from the grid search\n",
    "best_rf_classifier = grid_search.best_estimator_"
   ]
  },
  {
   "cell_type": "markdown",
   "id": "46ff81aa",
   "metadata": {},
   "source": [
    "# Model Evaluation"
   ]
  },
  {
   "cell_type": "code",
   "execution_count": 11,
   "id": "00a670b7",
   "metadata": {},
   "outputs": [
    {
     "name": "stdout",
     "output_type": "stream",
     "text": [
      "Accuracy: 0.8738738738738738\n"
     ]
    }
   ],
   "source": [
    "y_pred = best_rf_classifier.predict(X_test)\n",
    "accuracy = accuracy_score(y_test, y_pred)\n",
    "print(f\"Accuracy: {accuracy}\")"
   ]
  },
  {
   "cell_type": "code",
   "execution_count": 12,
   "id": "fa28a940",
   "metadata": {},
   "outputs": [
    {
     "name": "stdout",
     "output_type": "stream",
     "text": [
      "              precision    recall  f1-score   support\n",
      "\n",
      "           0       0.77      1.00      0.87        47\n",
      "           1       1.00      0.78      0.88        64\n",
      "\n",
      "    accuracy                           0.87       111\n",
      "   macro avg       0.89      0.89      0.87       111\n",
      "weighted avg       0.90      0.87      0.87       111\n",
      "\n"
     ]
    }
   ],
   "source": [
    "report = classification_report(y_test, y_pred)\n",
    "print(report)"
   ]
  },
  {
   "cell_type": "code",
   "execution_count": 13,
   "id": "67fecadb",
   "metadata": {},
   "outputs": [],
   "source": [
    "potential_clients['Prediction'] = best_rf_classifier.predict(tfidf_vectorizer.transform(potential_clients['Company names']))\n",
    "potential_clients['Revenue'] = potential_clients.apply(lambda row: existing_clients[existing_clients['Client Name'] == row['Company names']]['Revenue'].values[0] if row['Prediction'] == 1 and len(existing_clients[existing_clients['Client Name'] == row['Company names']]) > 0 else None, axis=1)"
   ]
  },
  {
   "cell_type": "code",
   "execution_count": 15,
   "id": "1807a709",
   "metadata": {},
   "outputs": [],
   "source": [
    "# Save the results to a CSV file\n",
    "potential_clients.to_csv('Machine_Learning_based_Classification_Approach_results.csv', index=False)"
   ]
  }
 ],
 "metadata": {
  "kernelspec": {
   "display_name": "Python 3 (ipykernel)",
   "language": "python",
   "name": "python3"
  },
  "language_info": {
   "codemirror_mode": {
    "name": "ipython",
    "version": 3
   },
   "file_extension": ".py",
   "mimetype": "text/x-python",
   "name": "python",
   "nbconvert_exporter": "python",
   "pygments_lexer": "ipython3",
   "version": "3.9.13"
  }
 },
 "nbformat": 4,
 "nbformat_minor": 5
}
